{
 "cells": [
  {
   "cell_type": "markdown",
   "id": "62f4c70b-86bb-45cf-8f07-588f3ab19e0b",
   "metadata": {
    "scrolled": true
   },
   "source": [
    "# 🛠️ Anomaly Detection Visualization\n",
    "\n",
    "This notebook loads anomaly detection results and visualizes anomalies detected by:\n",
    "- Linear Regression (LR)\n",
    "- GPT-based Isolation Forest\n",
    "\n",
    "It highlights the **training and test periods**, and marks the **failure alarm time**.\n",
    "\n"
   ]
  },
  {
   "cell_type": "code",
   "execution_count": 1,
   "id": "13a7fff9-85cc-43c3-83ba-15595aebe0f3",
   "metadata": {},
   "outputs": [],
   "source": [
    "import pickle\n",
    "import pandas as pd\n",
    "import matplotlib.pyplot as plt\n",
    "import os\n"
   ]
  },
  {
   "cell_type": "code",
   "execution_count": 2,
   "id": "4ad6ffe3-be4f-4631-8bea-f7652e77f87e",
   "metadata": {},
   "outputs": [],
   "source": [
    "# --- CONFIGURATION ---\n",
    "\n",
    "SIMULATION_ID = 3\n",
    "DATASET_NAME = 'DS10'\n",
    "RESULTS_FILE = f'./results/results_{DATASET_NAME.lower()}.csv'\n",
    "DATA_FILE = f'./datasets/sim{SIMULATION_ID}_test_cases.pkl'\n"
   ]
  },
  {
   "cell_type": "code",
   "execution_count": 3,
   "id": "f4a1a13a-efc2-4683-ba0f-60f08be88114",
   "metadata": {},
   "outputs": [],
   "source": [
    "# --- LOAD DATA ---\n",
    "\n",
    "# Ensure files exist\n",
    "if not os.path.exists(DATA_FILE):\n",
    "    raise FileNotFoundError(f\"Dataset file not found: {DATA_FILE}\")\n",
    "if not os.path.exists(RESULTS_FILE):\n",
    "    raise FileNotFoundError(f\"Results file not found: {RESULTS_FILE}\")\n",
    "\n",
    "# Load anomaly detection results\n",
    "results_df = pd.read_csv(RESULTS_FILE, index_col=0, parse_dates=True)\n",
    "\n",
    "# Load failure metadata\n",
    "with open(DATA_FILE, 'rb') as f:\n",
    "    faulty_datasets = pickle.load(f)\n"
   ]
  },
  {
   "cell_type": "code",
   "execution_count": 4,
   "id": "8208385f-186c-4603-b3db-9e99c00d92cf",
   "metadata": {},
   "outputs": [
    {
     "name": "stdout",
     "output_type": "stream",
     "text": [
      "\n",
      "--- Train Set Overview ---\n",
      "Shape: 10598 rows × 302 columns\n",
      "Columns preview: ['Wind speed (m/s)', 'Wind speed, Standard deviation (m/s)', 'Wind speed, Minimum (m/s)', 'Wind speed, Maximum (m/s)', 'Long Term Wind (m/s)'] ...\n",
      "\n"
     ]
    },
    {
     "data": {
      "text/html": [
       "<div>\n",
       "<style scoped>\n",
       "    .dataframe tbody tr th:only-of-type {\n",
       "        vertical-align: middle;\n",
       "    }\n",
       "\n",
       "    .dataframe tbody tr th {\n",
       "        vertical-align: top;\n",
       "    }\n",
       "\n",
       "    .dataframe thead th {\n",
       "        text-align: right;\n",
       "    }\n",
       "</style>\n",
       "<table border=\"1\" class=\"dataframe\">\n",
       "  <thead>\n",
       "    <tr style=\"text-align: right;\">\n",
       "      <th></th>\n",
       "      <th>Wind speed (m/s)</th>\n",
       "      <th>Wind speed, Standard deviation (m/s)</th>\n",
       "      <th>Wind speed, Minimum (m/s)</th>\n",
       "      <th>Wind speed, Maximum (m/s)</th>\n",
       "      <th>Long Term Wind (m/s)</th>\n",
       "    </tr>\n",
       "  </thead>\n",
       "  <tbody>\n",
       "    <tr>\n",
       "      <th>2021-03-29 13:50:00</th>\n",
       "      <td>10.315764</td>\n",
       "      <td>1.405932</td>\n",
       "      <td>7.259485</td>\n",
       "      <td>12.929957</td>\n",
       "      <td>6.43</td>\n",
       "    </tr>\n",
       "    <tr>\n",
       "      <th>2021-03-29 14:00:00</th>\n",
       "      <td>9.794213</td>\n",
       "      <td>1.510039</td>\n",
       "      <td>7.302179</td>\n",
       "      <td>12.554624</td>\n",
       "      <td>6.43</td>\n",
       "    </tr>\n",
       "    <tr>\n",
       "      <th>2021-03-29 14:10:00</th>\n",
       "      <td>9.867609</td>\n",
       "      <td>1.573549</td>\n",
       "      <td>6.818069</td>\n",
       "      <td>11.956540</td>\n",
       "      <td>6.43</td>\n",
       "    </tr>\n",
       "    <tr>\n",
       "      <th>2021-03-29 14:20:00</th>\n",
       "      <td>9.882552</td>\n",
       "      <td>1.158182</td>\n",
       "      <td>7.220875</td>\n",
       "      <td>11.653229</td>\n",
       "      <td>6.43</td>\n",
       "    </tr>\n",
       "    <tr>\n",
       "      <th>2021-03-29 14:30:00</th>\n",
       "      <td>9.716937</td>\n",
       "      <td>1.397137</td>\n",
       "      <td>7.647812</td>\n",
       "      <td>12.240546</td>\n",
       "      <td>6.43</td>\n",
       "    </tr>\n",
       "  </tbody>\n",
       "</table>\n",
       "</div>"
      ],
      "text/plain": [
       "                     Wind speed (m/s)  Wind speed, Standard deviation (m/s)  \\\n",
       "2021-03-29 13:50:00         10.315764                              1.405932   \n",
       "2021-03-29 14:00:00          9.794213                              1.510039   \n",
       "2021-03-29 14:10:00          9.867609                              1.573549   \n",
       "2021-03-29 14:20:00          9.882552                              1.158182   \n",
       "2021-03-29 14:30:00          9.716937                              1.397137   \n",
       "\n",
       "                     Wind speed, Minimum (m/s)  Wind speed, Maximum (m/s)  \\\n",
       "2021-03-29 13:50:00                   7.259485                  12.929957   \n",
       "2021-03-29 14:00:00                   7.302179                  12.554624   \n",
       "2021-03-29 14:10:00                   6.818069                  11.956540   \n",
       "2021-03-29 14:20:00                   7.220875                  11.653229   \n",
       "2021-03-29 14:30:00                   7.647812                  12.240546   \n",
       "\n",
       "                     Long Term Wind (m/s)  \n",
       "2021-03-29 13:50:00                  6.43  \n",
       "2021-03-29 14:00:00                  6.43  \n",
       "2021-03-29 14:10:00                  6.43  \n",
       "2021-03-29 14:20:00                  6.43  \n",
       "2021-03-29 14:30:00                  6.43  "
      ]
     },
     "metadata": {},
     "output_type": "display_data"
    }
   ],
   "source": [
    "# Print dataset info\n",
    "\n",
    "train_df = faulty_datasets[DATASET_NAME]['scada']['train']\n",
    "print(\"\\n--- Train Set Overview ---\")\n",
    "print(f\"Shape: {train_df.shape[0]} rows × {train_df.shape[1]} columns\")\n",
    "print(\"Columns preview:\", list(train_df.columns[:5]), \"...\\n\")\n",
    "display(train_df.iloc[:, :5].head())\n"
   ]
  },
  {
   "cell_type": "code",
   "execution_count": null,
   "id": "67d5b49e-0099-436d-a96a-dd43113ad7bf",
   "metadata": {},
   "outputs": [],
   "source": [
    "# Extract test/train indexes\n",
    "train_start = faulty_datasets[DATASET_NAME]['scada']['train'].index[0]\n",
    "train_end = faulty_datasets[DATASET_NAME]['scada']['valid'].index[-1]\n",
    "test_start = faulty_datasets[DATASET_NAME]['scada']['test'].index[0]\n",
    "test_end = faulty_datasets[DATASET_NAME]['scada']['test'].index[-1]\n",
    "\n",
    "failure_time = faulty_datasets[DATASET_NAME]['failure_alarm'].name\n"
   ]
  },
  {
   "cell_type": "code",
   "execution_count": null,
   "id": "040da38a-aadc-452b-b7ac-534c63a4bb9b",
   "metadata": {},
   "outputs": [],
   "source": [
    "# --- EXTRACT SERIES USING TEST INDEX ---\n",
    "LR_residual_series = results_df['LR_residuals']\n",
    "gpt_score_series = results_df['gpt_scores']\n",
    "\n",
    "# Identify anomaly points\n",
    "anomaly_points_LR = results_df[results_df['LR'] == 1]\n",
    "anomaly_points_GPT = results_df[results_df['CHATGPT'] == 1]\n"
   ]
  },
  {
   "cell_type": "code",
   "execution_count": null,
   "id": "522dc158-49cd-4fcb-8bf0-d198a180a6a4",
   "metadata": {},
   "outputs": [],
   "source": [
    "# --- PLOT ANOMALIES ---\n",
    "\n",
    "fig, (ax1, ax2) = plt.subplots(2, 1, figsize=(14, 8), sharex=True, gridspec_kw={'height_ratios': [1, 1]})\n",
    "\n",
    "# --- Top Plot: LR Residuals ---\n",
    "ax1.plot(LR_residual_series, label='LR Residual Series', color='purple', alpha=0.6)\n",
    "ax1.scatter(anomaly_points_LR.index,\n",
    "            LR_residual_series.loc[anomaly_points_LR.index],\n",
    "            marker='x', color='blue', label='LR Anomaly', s=10)\n",
    "ax1.axvline(x=failure_time, color='red', linestyle='--', label='Failure Alarm')\n",
    "ax1.axvspan(train_start, train_end, color='gray', alpha=0.2, label='Train Set')\n",
    "ax1.axvspan(test_start, test_end, color='orange', alpha=0.2, label='Test Set')\n",
    "ax1.set_ylabel('LR Residuals')\n",
    "ax1.set_title('Anomaly Detection - LR Residuals')\n",
    "ax1.legend(loc='upper left')\n",
    "\n",
    "# --- Bottom Plot: GPT Isolation Forest ---\n",
    "ax2.plot(gpt_score_series, label='GPT Isolation Forest Score', color='green', alpha=0.6)\n",
    "ax2.scatter(anomaly_points_GPT.index,\n",
    "            gpt_score_series.loc[anomaly_points_GPT.index],\n",
    "            marker='x', color='red', label='GPT Anomaly', s=10)\n",
    "ax2.axvline(x=failure_time, color='red', linestyle='--', label='Failure Alarm')\n",
    "ax2.axvspan(train_start, train_end, color='gray', alpha=0.2, label='Train Set')\n",
    "ax2.axvspan(test_start, test_end, color='orange', alpha=0.2, label='Test Set')\n",
    "ax2.set_ylabel('GPT Score')\n",
    "ax2.set_xlabel('Time')\n",
    "ax2.set_title('Anomaly Detection - GPT Isolation Forest')\n",
    "ax2.legend(loc='upper left')\n",
    "\n",
    "plt.tight_layout()\n",
    "plt.grid(True)\n",
    "plt.show()\n"
   ]
  }
 ],
 "metadata": {
  "kernelspec": {
   "display_name": "Python 3 (ipykernel)",
   "language": "python",
   "name": "python3"
  },
  "language_info": {
   "codemirror_mode": {
    "name": "ipython",
    "version": 3
   },
   "file_extension": ".py",
   "mimetype": "text/x-python",
   "name": "python",
   "nbconvert_exporter": "python",
   "pygments_lexer": "ipython3",
   "version": "3.11.10"
  }
 },
 "nbformat": 4,
 "nbformat_minor": 5
}
